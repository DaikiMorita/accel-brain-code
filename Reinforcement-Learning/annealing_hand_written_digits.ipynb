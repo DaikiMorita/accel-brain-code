{
 "cells": [
  {
   "cell_type": "markdown",
   "metadata": {},
   "source": [
    "# Problem setting: Recognizing hand-written digits.\n",
    "\n",
    "Recognizing hand-written digits is a classification problem, in which the aim is to assign each input vector to one of a finite number of discrete categories, to learn observed data points from already labeled data how to predict the class of unlabeled data. In the usecase of hand-written digits dataset, the task is to predict, given an image, which digit it represents.\n",
    "\n",
    "Training model learn features of each number between 0 and 9. The model will be given samples of each of the 10 possible classes on which we fit an estimator to be able to predict the classes to which unseen samples belong.\n",
    "\n",
    "## Problem solution: Supervised learning and predicting\n",
    "\n",
    "In this simple problem, there can be no need to implement deep neural network. For the purpose of convenience, we use a simple algorithm as the estimator. An example of the estimator is the class [sklearn.neural_network.MLPClassifier](http://scikit-learn.org/stable/modules/generated/sklearn.neural_network.MLPClassifier.html#sklearn-neural-network-mlpclassifier) that implements Multi-layer Perceptron classifier. The constructor of an estimator takes as arguments the parameters of the model, but for the time being, we will consider the estimator as a black box."
   ]
  },
  {
   "cell_type": "code",
   "execution_count": 1,
   "metadata": {},
   "outputs": [],
   "source": [
    "import matplotlib.pyplot as plt\n",
    "from sklearn import datasets, metrics\n",
    "from sklearn.neural_network import MLPClassifier"
   ]
  },
  {
   "cell_type": "code",
   "execution_count": 2,
   "metadata": {},
   "outputs": [
    {
     "name": "stderr",
     "output_type": "stream",
     "text": [
      "/usr/local/bin/.pyenv/versions/anaconda3-5.1.0/lib/python3.6/site-packages/sklearn/neural_network/multilayer_perceptron.py:564: ConvergenceWarning: Stochastic Optimizer: Maximum iterations (100) reached and the optimization hasn't converged yet.\n",
      "  % self.max_iter, ConvergenceWarning)\n"
     ]
    },
    {
     "name": "stdout",
     "output_type": "stream",
     "text": [
      "Classification report for classifier MLPClassifier(activation='relu', alpha=1e-05, batch_size=100, beta_1=0.9,\n",
      "       beta_2=0.999, early_stopping=False, epsilon=1e-08,\n",
      "       hidden_layer_sizes=(1000,), learning_rate='constant',\n",
      "       learning_rate_init=1e-05, max_iter=100, momentum=0.9,\n",
      "       nesterovs_momentum=True, power_t=0.5, random_state=None,\n",
      "       shuffle=True, solver='adam', tol=0.0001, validation_fraction=0.1,\n",
      "       verbose=False, warm_start=False):\n",
      "             precision    recall  f1-score   support\n",
      "\n",
      "          0       0.99      0.95      0.97        88\n",
      "          1       0.90      0.84      0.87        91\n",
      "          2       0.95      0.90      0.92        86\n",
      "          3       0.89      0.88      0.88        91\n",
      "          4       0.97      0.91      0.94        92\n",
      "          5       0.88      0.93      0.90        91\n",
      "          6       0.91      0.98      0.94        91\n",
      "          7       0.93      0.90      0.91        89\n",
      "          8       0.82      0.81      0.81        88\n",
      "          9       0.79      0.89      0.84        92\n",
      "\n",
      "avg / total       0.90      0.90      0.90       899\n",
      "\n",
      "\n",
      "Confusion matrix:\n",
      "[[84  0  0  0  1  0  3  0  0  0]\n",
      " [ 0 76  2  3  0  0  0  0  0 10]\n",
      " [ 1  1 77  6  0  1  0  0  0  0]\n",
      " [ 0  0  1 80  0  2  1  5  2  0]\n",
      " [ 0  0  0  0 84  0  4  0  3  1]\n",
      " [ 0  1  0  1  0 85  1  0  0  3]\n",
      " [ 0  1  0  0  1  0 89  0  0  0]\n",
      " [ 0  0  0  0  1  0  0 80  6  2]\n",
      " [ 0  5  1  0  0  4  0  1 71  6]\n",
      " [ 0  0  0  0  0  5  0  0  5 82]]\n"
     ]
    },
    {
     "data": {
      "image/png": "[encoded data removed]",
      "text/plain": [
       "<matplotlib.figure.Figure at 0x7558d79302b0>"
      ]
     },
     "metadata": {},
     "output_type": "display_data"
    }
   ],
   "source": [
    "from sklearn.neural_network import MLPClassifier\n",
    "\n",
    "# The digits dataset\n",
    "digits = datasets.load_digits()\n",
    "\n",
    "# The data that we are interested in is made of 8x8 images of digits, let's\n",
    "# have a look at the first 4 images, stored in the `images` attribute of the\n",
    "# dataset.  If we were working from image files, we could load them using\n",
    "# matplotlib.pyplot.imread.  Note that each image must have the same size. For these\n",
    "# images, we know which digit they represent: it is given in the 'target' of\n",
    "# the dataset.\n",
    "images_and_labels = list(zip(digits.images, digits.target))\n",
    "for index, (image, label) in enumerate(images_and_labels[:4]):\n",
    "    plt.subplot(2, 4, index + 1)\n",
    "    plt.axis('off')\n",
    "    plt.imshow(image, cmap=plt.cm.gray_r, interpolation='nearest')\n",
    "    plt.title('Training: %i' % label)\n",
    "\n",
    "# To apply a classifier on this data, we need to flatten the image, to\n",
    "# turn the data in a (samples, feature) matrix:\n",
    "n_samples = len(digits.images)\n",
    "data = digits.images.reshape((n_samples, -1))\n",
    "\n",
    "classifier = MLPClassifier(\n",
    "    # Activation function in the hidden layer.\n",
    "    activation=\"relu\",\n",
    "    # L2 penalty (regularization term) parameter.\n",
    "    alpha=0.00001,\n",
    "    # Bath size.\n",
    "    batch_size=100,\n",
    "    # The ith element represents the number of neurons in the ith hidden layer.\n",
    "    hidden_layer_sizes=(1000,), \n",
    "    # The initial learning rate used.\n",
    "    learning_rate_init=0.00001,\n",
    "    # Maximum number of iterations.\n",
    "    max_iter=100,\n",
    "    # Solver.\n",
    "    solver=\"adam\",\n",
    "    shuffle=True,\n",
    "    verbose=False\n",
    ")\n",
    "\n",
    "# We learn the digits on the first half of the digits\n",
    "classifier.fit(data[:n_samples // 2], digits.target[:n_samples // 2])\n",
    "\n",
    "# Now predict the value of the digit on the second half:\n",
    "expected = digits.target[n_samples // 2:]\n",
    "predicted = classifier.predict(data[n_samples // 2:])\n",
    "\n",
    "print(\"Classification report for classifier %s:\\n%s\\n\"\n",
    "      % (classifier, metrics.classification_report(expected, predicted)))\n",
    "print(\"Confusion matrix:\\n%s\" % metrics.confusion_matrix(expected, predicted))\n",
    "\n",
    "images_and_predictions = list(zip(digits.images[n_samples // 2:], predicted))\n",
    "for index, (image, prediction) in enumerate(images_and_predictions[:4]):\n",
    "    plt.subplot(2, 4, index + 5)\n",
    "    plt.axis('off')\n",
    "    plt.imshow(image, cmap=plt.cm.gray_r, interpolation='nearest')\n",
    "    plt.title('Prediction: %i' % prediction)\n",
    "\n",
    "plt.show()\n",
    "plt.close()"
   ]
  },
  {
   "cell_type": "markdown",
   "metadata": {},
   "source": [
    "# Issue: Complexity of Hyperparameters, or how can be hyperparameters decided? \n",
    "\n",
    "There are many hyperparameters that we have to set before the actual training process begins. Each parameter should be decided in relation to machine learning theory and it cause side effects in training model. Because of this complexity of hyperparameters, so-called the *hyperparameter tuning* must become a burden of Data scientists and R & D engineers from the perspective of not only a theoretical point of view but also implementation level.\n",
    "\n",
    "# Problem re-setting: Combinatorial optimization problem.\n",
    "\n",
    "This issue can be considered as Combinatorial optimization problem which is an optimization problem, where an optimal solution has to be identified from a finite set of solutions. The solutions are normally discrete or can be converted into discrete. This is an important topic studied in operations research such as software engineering, artificial intelligence(AI), and machine learning. For instance, travelling sales man problem is one of the popular combinatorial optimization problem.\n",
    "\n",
    "Considering that the *hyperparameter tuning* can be formed into Combinatorial optimization problem, the optimal solution to be searched is estimation accuracy, precision, recall, or F-value and so on. Conversely, estimation error such as Mean Squared Error(MSE), Root Mean Squared Error(RMSE), or Mean Absolute Error(MAE) can be a value of penalty, which must be reduced by searching and learning.\n",
    "\n",
    "In this problem setting, combination of the hyperparameters are explanatory variables for the optimal solution. Each parameter can be generated from random sampling like Monte Carlo method."
   ]
  },
  {
   "cell_type": "markdown",
   "metadata": {},
   "source": [
    "## Problem solution: Simulated Annealing.\n",
    "\n",
    "Simulated Annealing is a probabilistic single solution based search method inspired by the annealing process in metallurgy. Annealing is a physical process referred to as tempering certain alloys of metal, glass, or crystal by heating above its melting point, holding its temperature, and then cooling it very slowly until it solidifies into a perfect crystalline structure. The simulation of this process is known as simulated annealing. \n",
    "\n",
    "### Conceptual perspective.\n",
    "\n",
    "The simulated annealing is a generic algorithm. Combinatorial optimization is an one of the various functions of simulated annealing. \n",
    "\n",
    "#### Boltzmann distribution.\n",
    "\n",
    "According to statistical mechanics and thermodynamics, $P_{\\alpha}$, the probability of a physical system\n",
    "being in state $\\alpha$ with energy $E_{\\alpha}$ at absolute temperature $T$ satisfies the Boltzmann distribution as follow.\n",
    "\n",
    "$$P_{\\alpha} = \\frac{1}{Z}e^{\\frac{E_{\\alpha}}{k_{B}}}T$$\n",
    "\n",
    "where $k_{B}$ is the Boltzmann’s constant and $Z$ is the partition function, defined by\n",
    "\n",
    "$$Z = \\sum_{\\beta}^{}e^{\\frac{E_{\\beta}}{k_{B}}}T$$\n",
    "\n",
    "#### Meaning of partition function.\n",
    "\n",
    "To simplify, this partition function can be considered as the summation being taken over all states $\\alpha = \\{0, 1, ..., \\beta \\}$ with energy $E_{\\alpha}$ at temperature $T$ . At high $T$ , the Boltzmann distribution exhibits uniform preference for all the states, regardless of the energy. The system ignores small changes in\n",
    "the energy and approaches thermal equilibrium rapidly. On the other hand, when $T$ approaches zero or very low, only the states with minimum energy have non-zero probability of occurrence. The system can respond to small changes in the energy.\n",
    "\n",
    "#### To find a better minimum\n",
    "\n",
    "According to statistical mechanics, gradually decreasing temperature corresponds to gradually decreasing information entropy. So this system can perform a fine search in the neighborhood of the already determined minimum and finds a better minimum.\n",
    "\n",
    "#### Cost function\n",
    "\n",
    "The function of Combinatorial optimization algorithm is minimization of the penalty that cost function returns. Typically, the cost function is defined by\n",
    "\n",
    "$$f(p_k, y_k) = Loss_{MSE} =\\frac{1}{n}\\sum_{k=1}^n(p_k - y_k)^2$$\n",
    "\n",
    "where $p_k$ is a set of predicted labels and $y_k$ is a set of correct labels."
   ]
  },
  {
   "cell_type": "markdown",
   "metadata": {},
   "source": [
    "### Specification perspective.\n",
    "\n",
    "There are various Simulated Annealing such as Boltzmann Annealing, Adaptive Simulated Annealing(SAS), and Quantum Simulated Annealing. On the premise of Combinatorial optimization problem, these annealing methods can be considered as functionally equivalent. The *Commonality/Variability* in these methods are able to keep responsibility of objects all straight as the class diagram below indicates.\n",
    "\n",
    "![img/class_diagram_annealing_model.png](img/class_diagram_annealing_model.png)"
   ]
  },
  {
   "cell_type": "markdown",
   "metadata": {},
   "source": [
    "An abstract class `AnnealingModel` is responsible for common annealing methods. And a concrete class `SimulatedAnnealing` is-a `AnnealingModel` to behave as Simulated Annealing. `CostFunctionable` is an interface which performs as cost function. Implementation of this interface depends on user's problem settings."
   ]
  },
  {
   "cell_type": "markdown",
   "metadata": {},
   "source": [
    "### Implementation perspective.\n",
    "\n",
    "In order to implement `CostFunctionable` and use `AnnealingModel` in this problem setting, let us adhere fundamentally to an introduction with scikit-learn.\n",
    "\n",
    "- [An introduction to machine learning with scikit-learn — scikit-learn 0.19.1 documentation](http://scikit-learn.org/stable/tutorial/basic/tutorial.html)"
   ]
  },
  {
   "cell_type": "markdown",
   "metadata": {},
   "source": [
    "#### Dataset.\n",
    "\n",
    "The data that we are interested in is made of 8x8 images of digits, let's have a look at the first 4 images, stored in the `images` attribute of the dataset.  If we were working from image files, we could load them using matplotlib.pyplot.imread.  Note that each image must have the same size. For these images, we know which digit they represent: it is given in the 'target' of the dataset."
   ]
  },
  {
   "cell_type": "code",
   "execution_count": 3,
   "metadata": {},
   "outputs": [
    {
     "data": {
      "image/png": "[encoded data removed]",
      "text/plain": [
       "<matplotlib.figure.Figure at 0x7558d7930198>"
      ]
     },
     "metadata": {},
     "output_type": "display_data"
    }
   ],
   "source": [
    "# The digits dataset\n",
    "digits = datasets.load_digits()\n",
    "\n",
    "images_and_labels = list(zip(digits.images, digits.target))\n",
    "for index, (image, label) in enumerate(images_and_labels[:4]):\n",
    "    plt.subplot(2, 4, index + 1)\n",
    "    plt.axis('off')\n",
    "    plt.imshow(image, cmap=plt.cm.gray_r, interpolation='nearest')\n",
    "    plt.title('Training: %i' % label)\n",
    "\n",
    "# To apply a classifier on this data, we need to flatten the image, to\n",
    "# turn the data in a (samples, feature) matrix:\n",
    "n_samples = len(digits.images)\n",
    "data = digits.images.reshape((n_samples, -1))"
   ]
  },
  {
   "cell_type": "markdown",
   "metadata": {},
   "source": [
    "#### Implement cost function.\n",
    "\n",
    "Let us implement `CostFunctionable` as follow."
   ]
  },
  {
   "cell_type": "code",
   "execution_count": 4,
   "metadata": {},
   "outputs": [],
   "source": [
    "from pyqlearning.annealingmodel.simulated_annealing import SimulatedAnnealing\n",
    "from pyqlearning.annealingmodel.cost_functionable import CostFunctionable\n",
    "import numpy as np\n",
    "import pandas as pd\n",
    "from sklearn.metrics import mean_squared_error"
   ]
  },
  {
   "cell_type": "code",
   "execution_count": 5,
   "metadata": {},
   "outputs": [],
   "source": [
    "class DigitClfCost(CostFunctionable):\n",
    "    '''\n",
    "    is-a `CostFunctionable` in relation to `SimulatedAnnealing`.\n",
    "    '''\n",
    "\n",
    "    # The list of activation function in the hidden layer.\n",
    "    __activation_list = [\"relu\", \"logistic\", \"tanh\"]\n",
    "    # The solver for weight optimization.\n",
    "    __solver_list = [\"lbfgs\", \"sgd\", \"adam\"]\n",
    "    \n",
    "    def compute(self, x):\n",
    "        '''\n",
    "        Compute cost.\n",
    "        \n",
    "        Args:\n",
    "            x:    `np.ndarray` of explanatory variables.\n",
    "        \n",
    "        Returns:\n",
    "            cost\n",
    "        '''\n",
    "        classifier = MLPClassifier(\n",
    "            # Activation function in the hidden layer.\n",
    "            activation=self.__activation_list[int(x[0])],\n",
    "            # L2 penalty (regularization term) parameter.\n",
    "            alpha=x[1],\n",
    "            # Bath size.\n",
    "            batch_size=int(x[2]),\n",
    "            # The ith element represents the number of neurons in the ith hidden layer.\n",
    "            hidden_layer_sizes=(int(x[3]),), \n",
    "            # The initial learning rate used.\n",
    "            learning_rate_init=x[4],\n",
    "            # Maximum number of iterations.\n",
    "            max_iter=int(x[5]),\n",
    "            # Solver.\n",
    "            solver=self.__solver_list[int(x[6])],\n",
    "            shuffle=True,\n",
    "            verbose=False\n",
    "        )\n",
    "\n",
    "        # We learn the digits on the first half of the digits\n",
    "        classifier.fit(data[:n_samples // 2], digits.target[:n_samples // 2])\n",
    "\n",
    "        # Now predict the value of the digit on the second half:\n",
    "        expected = digits.target[n_samples // 2:]\n",
    "        predicted = classifier.predict(data[n_samples // 2:])\n",
    "        \n",
    "        cost = mean_squared_error(expected, predicted)\n",
    "        \n",
    "        return cost\n",
    "\n",
    "    def get_activation_list(self):\n",
    "        return self.__activation_list\n",
    "\n",
    "    def get_solver_list(self):\n",
    "        return self.__solver_list\n",
    "\n",
    "    def set_readonly(self, value):\n",
    "        raise TypeError()\n",
    "\n",
    "    activation_list = property(get_activation_list, set_readonly)\n",
    "    solver_list = property(get_solver_list, set_readonly)"
   ]
  },
  {
   "cell_type": "markdown",
   "metadata": {},
   "source": [
    "#### Sampling hyperparameters.\n",
    "\n",
    "Like Monte Carlo method, let us draw random samples from a normal (Gaussian) or unifrom distribution."
   ]
  },
  {
   "cell_type": "code",
   "execution_count": 6,
   "metadata": {},
   "outputs": [],
   "source": [
    "activation_arr = np.random.uniform(low=0, high=1, size=1000)\n",
    "alpha_arr = np.random.normal(loc=0.0001, scale=0.00001, size=1000)\n",
    "batch_size_arr = np.random.normal(loc=200, scale=10, size=1000).astype(int)\n",
    "hidden_arr = np.random.normal(loc=1000, scale=100, size=1000).astype(int)\n",
    "learning_rate_arr = np.random.normal(loc=0.01, scale=0.0005, size=1000)\n",
    "max_iter_arr = np.random.normal(loc=1000, scale=500, size=1000)\n",
    "solver_arr = np.random.uniform(low=0, high=1, size=1000)\n",
    "\n",
    "cost_arr = np.c_[\n",
    "    activation_arr,\n",
    "    alpha_arr,\n",
    "    batch_size_arr,\n",
    "    hidden_arr,\n",
    "    learning_rate_arr,\n",
    "    max_iter_arr,\n",
    "    solver_arr\n",
    "]"
   ]
  },
  {
   "cell_type": "markdown",
   "metadata": {},
   "source": [
    "#### Use `AnnealingModel`.\n",
    "\n",
    "Instantiate `DigitClfCost` and delegate it to `SimulatedAnnealing.__init__()`. Then call the method `fit_dist_mat` to fit the combination of hyperparameters. Finally, call the method `annealing`."
   ]
  },
  {
   "cell_type": "code",
   "execution_count": 7,
   "metadata": {},
   "outputs": [],
   "source": [
    "cost_functionable = DigitClfCost()\n",
    "annealing_model = SimulatedAnnealing(\n",
    "    cost_functionable=cost_functionable,\n",
    "    cycles_num=33,\n",
    "    trials_per_cycle=3,\n",
    "    accepted_sol_num=0.0,\n",
    "    init_prob=0.7,\n",
    "    final_prob=0.001,\n",
    "    start_pos=0,\n",
    "    move_range=3\n",
    ")\n",
    "annealing_model.fit_dist_mat(cost_arr)\n",
    "annealing_model.annealing()"
   ]
  },
  {
   "cell_type": "markdown",
   "metadata": {},
   "source": [
    "#### Get and plot result data.\n",
    "\n",
    "As shown by the figure below, the energy has been decreasing gradually."
   ]
  },
  {
   "cell_type": "code",
   "execution_count": 8,
   "metadata": {},
   "outputs": [],
   "source": [
    "# Extract list: [(Cost, Delta energy, Mean of delta energy, probability, accept)]\n",
    "predicted_log_list = annealing_model.predicted_log_list\n",
    "predicted_log_arr = np.array(predicted_log_list)"
   ]
  },
  {
   "cell_type": "code",
   "execution_count": 9,
   "metadata": {},
   "outputs": [
    {
     "data": {
      "image/png": "[encoded data removed]",
      "text/plain": [
       "<matplotlib.figure.Figure at 0x7558d7a0bb38>"
      ]
     },
     "metadata": {},
     "output_type": "display_data"
    }
   ],
   "source": [
    "# Plot delta_e_avg\n",
    "fig = plt.figure(figsize=(15, 12))\n",
    "plt.plot(predicted_log_arr[:, 2])\n",
    "plt.show()\n",
    "plt.close()"
   ]
  },
  {
   "cell_type": "markdown",
   "metadata": {},
   "source": [
    "#### Dicide optimal solution\n",
    "\n",
    "The optimal combination of hyperparameters can be confirmed as follow."
   ]
  },
  {
   "cell_type": "code",
   "execution_count": 10,
   "metadata": {},
   "outputs": [
    {
     "name": "stdout",
     "output_type": "stream",
     "text": [
      "Activation: relu\n",
      "Alpha: 0.000103667179416\n",
      "Batch size: 189\n",
      "The number of units in hidden layer: 928\n",
      "Init of Learning rate: 0.0102094393941\n",
      "Max iter: 1155\n",
      "Solver: lbfgs\n"
     ]
    }
   ],
   "source": [
    "min_e_v_arr = annealing_model.x[np.argmin(predicted_log_arr[:, 2])]\n",
    "\n",
    "activation = cost_functionable.activation_list[int(min_e_v_arr[0])]\n",
    "alpha = min_e_v_arr[1]\n",
    "batch_size = int(min_e_v_arr[2])\n",
    "hidden_n = int(min_e_v_arr[3])\n",
    "learning_rate_init = min_e_v_arr[4]\n",
    "max_iter = int(min_e_v_arr[5])\n",
    "solver = cost_functionable.solver_list[int(min_e_v_arr[6])]\n",
    "\n",
    "print(\"Activation: \" + str(activation))\n",
    "print(\"Alpha: \" + str(alpha))\n",
    "print(\"Batch size: \" + str(batch_size))\n",
    "print(\"The number of units in hidden layer: \" + str(hidden_n))\n",
    "print(\"Init of Learning rate: \" + str(learning_rate_init))\n",
    "print(\"Max iter: \" + str(max_iter))\n",
    "print(\"Solver: \" + str(solver))"
   ]
  },
  {
   "cell_type": "markdown",
   "metadata": {},
   "source": [
    "#### Training by optimal hyperparameters.\n",
    "\n",
    "Then this optimal solution makes it possible for machine learning model to learn by optimal hyperparameters."
   ]
  },
  {
   "cell_type": "code",
   "execution_count": 13,
   "metadata": {},
   "outputs": [
    {
     "name": "stdout",
     "output_type": "stream",
     "text": [
      "Classification report for classifier MLPClassifier(activation='relu', alpha=0.00010366717941587721, batch_size=189,\n",
      "       beta_1=0.9, beta_2=0.999, early_stopping=False, epsilon=1e-08,\n",
      "       hidden_layer_sizes=(928,), learning_rate='constant',\n",
      "       learning_rate_init=0.010209439394074748, max_iter=1155,\n",
      "       momentum=0.9, nesterovs_momentum=True, power_t=0.5,\n",
      "       random_state=None, shuffle=True, solver='lbfgs', tol=0.0001,\n",
      "       validation_fraction=0.1, verbose=False, warm_start=False):\n",
      "             precision    recall  f1-score   support\n",
      "\n",
      "          0       0.99      0.94      0.97        88\n",
      "          1       0.92      0.90      0.91        91\n",
      "          2       0.99      1.00      0.99        86\n",
      "          3       0.97      0.85      0.91        91\n",
      "          4       0.96      0.89      0.93        92\n",
      "          5       0.89      0.93      0.91        91\n",
      "          6       0.89      0.98      0.93        91\n",
      "          7       0.97      0.97      0.97        89\n",
      "          8       0.90      0.89      0.89        88\n",
      "          9       0.82      0.92      0.87        92\n",
      "\n",
      "avg / total       0.93      0.93      0.93       899\n",
      "\n",
      "\n",
      "Confusion matrix:\n",
      "[[83  0  0  0  1  0  4  0  0  0]\n",
      " [ 1 82  0  1  1  1  0  0  1  4]\n",
      " [ 0  0 86  0  0  0  0  0  0  0]\n",
      " [ 0  0  1 77  0  4  0  0  7  2]\n",
      " [ 0  1  0  0 82  0  6  0  0  3]\n",
      " [ 0  1  0  0  0 85  1  0  0  4]\n",
      " [ 0  2  0  0  0  0 89  0  0  0]\n",
      " [ 0  0  0  0  0  0  0 86  0  3]\n",
      " [ 0  3  0  0  1  3  0  0 78  3]\n",
      " [ 0  0  0  1  0  2  0  3  1 85]]\n"
     ]
    },
    {
     "data": {
      "image/png": "[encoded data removed]",
      "text/plain": [
       "<matplotlib.figure.Figure at 0x7558d7709f98>"
      ]
     },
     "metadata": {},
     "output_type": "display_data"
    }
   ],
   "source": [
    "classifier = MLPClassifier(\n",
    "    # Activation function in the hidden layer.\n",
    "    activation=activation,\n",
    "    # L2 penalty (regularization term) parameter.\n",
    "    alpha=alpha,\n",
    "    # Bath size.\n",
    "    batch_size=batch_size,\n",
    "    # The ith element represents the number of neurons in the ith hidden layer.\n",
    "    hidden_layer_sizes=(hidden_n,), \n",
    "    # The initial learning rate used.\n",
    "    learning_rate_init=learning_rate_init,\n",
    "    # Maximum number of iterations.\n",
    "    max_iter=max_iter,\n",
    "    # Solver.\n",
    "    solver=solver,\n",
    "    shuffle=True,\n",
    "    verbose=False\n",
    ")\n",
    "\n",
    "# We learn the digits on the first half of the digits\n",
    "classifier.fit(data[:n_samples // 2], digits.target[:n_samples // 2])\n",
    "\n",
    "# Now predict the value of the digit on the second half:\n",
    "expected = digits.target[n_samples // 2:]\n",
    "predicted = classifier.predict(data[n_samples // 2:])\n",
    "\n",
    "print(\"Classification report for classifier %s:\\n%s\\n\"\n",
    "      % (classifier, metrics.classification_report(expected, predicted)))\n",
    "print(\"Confusion matrix:\\n%s\" % metrics.confusion_matrix(expected, predicted))\n",
    "\n",
    "images_and_predictions = list(zip(digits.images[n_samples // 2:], predicted))\n",
    "for index, (image, prediction) in enumerate(images_and_predictions[:4]):\n",
    "    plt.subplot(2, 4, index + 5)\n",
    "    plt.axis('off')\n",
    "    plt.imshow(image, cmap=plt.cm.gray_r, interpolation='nearest')\n",
    "    plt.title('Prediction: %i' % prediction)\n",
    "\n",
    "plt.show()"
   ]
  },
  {
   "cell_type": "markdown",
   "metadata": {},
   "source": [
    "### Comparison of accuracy.\n",
    "\n",
    "As described above, it is backed by data such as precision, recall, f1-score, and support that training model in the case of using Simulated Annealing has a higher score than the model based on default hyperparameters.\n",
    "\n",
    "#### In case of default hyperparameters.\n",
    "```\n",
    "precision    recall  f1-score   support\n",
    "\n",
    "          0       0.99      0.95      0.97        88\n",
    "          1       0.90      0.84      0.87        91\n",
    "          2       0.95      0.90      0.92        86\n",
    "          3       0.89      0.88      0.88        91\n",
    "          4       0.97      0.91      0.94        92\n",
    "          5       0.88      0.93      0.90        91\n",
    "          6       0.91      0.98      0.94        91\n",
    "          7       0.93      0.90      0.91        89\n",
    "          8       0.82      0.81      0.81        88\n",
    "          9       0.79      0.89      0.84        92\n",
    "\n",
    "avg / total       0.90      0.90      0.90       899\n",
    "```\n",
    "\n",
    "#### In case of usign Simulated Annealing.\n",
    "\n",
    "```\n",
    "    precision    recall  f1-score   support\n",
    "\n",
    "          0       0.99      0.94      0.97        88\n",
    "          1       0.92      0.90      0.91        91\n",
    "          2       0.99      1.00      0.99        86\n",
    "          3       0.97      0.85      0.91        91\n",
    "          4       0.96      0.89      0.93        92\n",
    "          5       0.89      0.93      0.91        91\n",
    "          6       0.89      0.98      0.93        91\n",
    "          7       0.97      0.97      0.97        89\n",
    "          8       0.90      0.89      0.89        88\n",
    "          9       0.82      0.92      0.87        92\n",
    "\n",
    "avg / total       0.93      0.93      0.93       899\n",
    "```\n"
   ]
  },
  {
   "cell_type": "markdown",
   "metadata": {},
   "source": [
    "# Issue: Hyperparameters in order to tune hyperparameters.\n",
    "\n",
    "The function of `AnnealingModel` is to tune hyperparameters. But this model itself requires to tune hyperparameters. Then how can be hyperparameters decided? Can `AnnealingModel` decide hyperparameters of `AnnealingModel` ? So the problem solution as described above can raise a paradox: *hyperparameters in order to tune hyperparameters in order to tune hyperparameters in order to tune hyperparameters...*.\n",
    "\n",
    "It is not important for a mere end-user in the machine learning library to think that how can be this paradox *unfolded*. For instance, a kind of verification procedure such as so-called appeal from authority, in any case, makes it possible to *de-paradoxize* this issue. \n",
    "\n",
    "In spite of the fact, it is not necessary for us to follow expert advice and to trust primer's intuition about hyperparameter tuning blindly. According to modal logic, the relationship between algorithms and data structures in *your* problem setting can raise contingent result. Without customization, the machine learning library may well be of no practical use.\n",
    "\n",
    "## Problem re-setting: Self-referential machine learning, or Autologie.\n",
    "\n",
    "It is important for us to produce new PoC in relation to theory of *self-referential systems* so as to detoxify the paradox. The systems are a kind of machine learning models to interconnect, tuning their hyperparameters mutually. With the completion of those models, the machine learning model will be called Artificial intelligence(AI)."
   ]
  },
  {
   "cell_type": "markdown",
   "metadata": {},
   "source": [
    "# References\n",
    "\n",
    "- Du, K. L., & Swamy, M. N. S. (2016). Search and optimization by metaheuristics (p. 434). New York City: Springer.\n",
    "- [量子力学、統計力学、熱力学における天才物理学者たちの神学的な形象について](https://accel-brain.com/das-theologische-bild-genialer-physiker-in-der-quantenmechanik-und-der-statistischen-mechanik-und-thermodynamik/) (Japanese)\n",
    "- [An introduction to machine learning with scikit-learn &#8212; scikit-learn 0.19.1 documentation](http://scikit-learn.org/stable/tutorial/basic/tutorial.html#introduction) (Access: 2018/05/27 18:59)"
   ]
  }
 ],
 "metadata": {
  "kernelspec": {
   "display_name": "Python 3",
   "language": "python",
   "name": "python3"
  },
  "language_info": {
   "codemirror_mode": {
    "name": "ipython",
    "version": 3
   },
   "file_extension": ".py",
   "mimetype": "text/x-python",
   "name": "python",
   "nbconvert_exporter": "python",
   "pygments_lexer": "ipython3",
   "version": "3.6.4"
  }
 },
 "nbformat": 4,
 "nbformat_minor": 2
}
