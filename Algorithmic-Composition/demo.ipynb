{
 "cells": [
  {
   "cell_type": "code",
   "execution_count": 1,
   "metadata": {},
   "outputs": [],
   "source": [
    "from pycomposer.composition_controler import CompositionControler\n",
    "from pycomposer.midi_vectorlizer import MidiVectorlizer\n",
    "import numpy as np\n",
    "\n",
    "# `Builder` in `Builder Patter`.\n",
    "from pydbm.dbm.builders.rt_rbm_simple_builder import RTRBMSimpleBuilder\n",
    "# The object of Restricted Boltzmann Machine.\n",
    "from pydbm.dbm.restricted_boltzmann_machines import RestrictedBoltzmannMachine\n",
    "# RNN and Contrastive Divergence for function approximation.\n",
    "from pydbm.approximation.rt_rbm_cd import RTRBMCD\n",
    "# Logistic Function as activation function.\n",
    "from pydbm.activation.logistic_function import LogisticFunction\n",
    "# Softmax Function as activation function.\n",
    "from pydbm.activation.softmax_function import SoftmaxFunction\n",
    "from pydbm.activation.relu_function import ReLuFunction\n",
    "from pydbm.activation.tanh_function import TanhFunction"
   ]
  },
  {
   "cell_type": "code",
   "execution_count": 31,
   "metadata": {},
   "outputs": [],
   "source": [
    "# `Builder` in `Builder Pattern` for RTRBM.\n",
    "rtrbm_builder = RTRBMSimpleBuilder()\n",
    "# Learning rate.\n",
    "rtrbm_builder.learning_rate = 0.00001\n",
    "# Set units in visible layer.\n",
    "rtrbm_builder.visible_neuron_part(\n",
    "    SoftmaxFunction(), \n",
    "    127\n",
    ")\n",
    "# Set units in hidden layer.\n",
    "rtrbm_builder.hidden_neuron_part(\n",
    "    LogisticFunction(normalize_flag=False, binary_flag=False), \n",
    "    10\n",
    ")\n",
    "# Set units in RNN layer.\n",
    "rtrbm_builder.rnn_neuron_part(\n",
    "    LogisticFunction(normalize_flag=True, binary_flag=False)\n",
    ")\n",
    "# Set graph and approximation function.\n",
    "rtrbm_builder.graph_part(RTRBMCD())\n",
    "# Building.\n",
    "rbm = rtrbm_builder.get_result()\n"
   ]
  },
  {
   "cell_type": "code",
   "execution_count": 32,
   "metadata": {},
   "outputs": [],
   "source": [
    "composition_controler = CompositionControler(\n",
    "    rbm=rbm,\n",
    "    resolution=960,\n",
    "    initial_tempo=120,\n",
    "    chord_instrument_num=39,\n",
    "    melody_instrument_num=0\n",
    ")"
   ]
  },
  {
   "cell_type": "code",
   "execution_count": 33,
   "metadata": {},
   "outputs": [
    {
     "data": {
      "text/plain": [
       "(      program       start         end  pitch  velocity  duration\n",
       " 6922       44  406.623177  407.560677     51        70   0.93750\n",
       " 6923       44  406.623177  407.560677     55        70   0.93750\n",
       " 6063       44  407.091927  407.560677     58        70   0.46875\n",
       " 6064       44  407.560677  408.498177     56        84   0.93750\n",
       " 6924       44  407.560677  410.373177     48        73   2.81250, (7252, 6))"
      ]
     },
     "execution_count": 33,
     "metadata": {},
     "output_type": "execute_result"
    }
   ],
   "source": [
    "midi_vectorlizer = MidiVectorlizer()\n",
    "tone_df = midi_vectorlizer.extract(\"../../parsifal.mid\")\n",
    "tone_df.head(), tone_df.shape"
   ]
  },
  {
   "cell_type": "code",
   "execution_count": 34,
   "metadata": {},
   "outputs": [],
   "source": [
    "composition_controler.learn_pitch(\n",
    "    tone_df=tone_df, \n",
    "    training_count=1, \n",
    "    batch_size=200\n",
    ")"
   ]
  },
  {
   "cell_type": "code",
   "execution_count": 35,
   "metadata": {},
   "outputs": [],
   "source": [
    "chord_melody_list = composition_controler.create_chord_melody_list(\n",
    "    octave=4, \n",
    "    first_chord=\"I\",\n",
    "    length=8\n",
    ")"
   ]
  },
  {
   "cell_type": "code",
   "execution_count": 37,
   "metadata": {},
   "outputs": [],
   "source": [
    "composition_controler.match_melody_to_chords(\n",
    "    chord_melody_list=chord_melody_list,\n",
    "    chord_duration_range=(0.8, 2.4),\n",
    "    start_time=None,\n",
    "    #beat=8,\n",
    "    melody_duration_range=(0.1, 0.3),\n",
    "    space_range=(0.0, 0.01),\n",
    "    chord_velocity_range=(70, 90),\n",
    "    melody_velocity_range=(90, 110)\n",
    ")"
   ]
  },
  {
   "cell_type": "code",
   "execution_count": 38,
   "metadata": {},
   "outputs": [],
   "source": [
    "composition_controler.save(file_path=\"test.mid\")"
   ]
  }
 ],
 "metadata": {
  "kernelspec": {
   "display_name": "Python 3",
   "language": "python",
   "name": "python3"
  },
  "language_info": {
   "codemirror_mode": {
    "name": "ipython",
    "version": 3
   },
   "file_extension": ".py",
   "mimetype": "text/x-python",
   "name": "python",
   "nbconvert_exporter": "python",
   "pygments_lexer": "ipython3",
   "version": "3.6.4"
  }
 },
 "nbformat": 4,
 "nbformat_minor": 2
}
