{
 "cells": [
  {
   "cell_type": "code",
   "execution_count": 1,
   "metadata": {},
   "outputs": [],
   "source": [
    "import numpy as np\n",
    "from pycomposer.composition_controler import CompositionControler\n",
    "from pycomposer.inferablepitch.rtrbm_inferer import RTRBMInferer\n",
    "from pycomposer.inferableconsonance.q_consonance import QConsonance\n",
    "from pycomposer.midi_vectorlizer import MidiVectorlizer"
   ]
  },
  {
   "cell_type": "code",
   "execution_count": 12,
   "metadata": {},
   "outputs": [
    {
     "data": {
      "text/html": [
       "<div>\n",
       "<style scoped>\n",
       "    .dataframe tbody tr th:only-of-type {\n",
       "        vertical-align: middle;\n",
       "    }\n",
       "\n",
       "    .dataframe tbody tr th {\n",
       "        vertical-align: top;\n",
       "    }\n",
       "\n",
       "    .dataframe thead th {\n",
       "        text-align: right;\n",
       "    }\n",
       "</style>\n",
       "<table border=\"1\" class=\"dataframe\">\n",
       "  <thead>\n",
       "    <tr style=\"text-align: right;\">\n",
       "      <th></th>\n",
       "      <th>program</th>\n",
       "      <th>start</th>\n",
       "      <th>end</th>\n",
       "      <th>pitch</th>\n",
       "      <th>velocity</th>\n",
       "      <th>duration</th>\n",
       "    </tr>\n",
       "  </thead>\n",
       "  <tbody>\n",
       "    <tr>\n",
       "      <th>173</th>\n",
       "      <td>48</td>\n",
       "      <td>1.8</td>\n",
       "      <td>2.4</td>\n",
       "      <td>62</td>\n",
       "      <td>95</td>\n",
       "      <td>0.6</td>\n",
       "    </tr>\n",
       "    <tr>\n",
       "      <th>174</th>\n",
       "      <td>48</td>\n",
       "      <td>2.4</td>\n",
       "      <td>3.0</td>\n",
       "      <td>67</td>\n",
       "      <td>105</td>\n",
       "      <td>0.6</td>\n",
       "    </tr>\n",
       "    <tr>\n",
       "      <th>317</th>\n",
       "      <td>0</td>\n",
       "      <td>2.4</td>\n",
       "      <td>3.6</td>\n",
       "      <td>55</td>\n",
       "      <td>90</td>\n",
       "      <td>1.2</td>\n",
       "    </tr>\n",
       "    <tr>\n",
       "      <th>318</th>\n",
       "      <td>0</td>\n",
       "      <td>2.4</td>\n",
       "      <td>3.6</td>\n",
       "      <td>59</td>\n",
       "      <td>100</td>\n",
       "      <td>1.2</td>\n",
       "    </tr>\n",
       "    <tr>\n",
       "      <th>175</th>\n",
       "      <td>48</td>\n",
       "      <td>3.0</td>\n",
       "      <td>3.3</td>\n",
       "      <td>66</td>\n",
       "      <td>100</td>\n",
       "      <td>0.3</td>\n",
       "    </tr>\n",
       "  </tbody>\n",
       "</table>\n",
       "</div>"
      ],
      "text/plain": [
       "     program  start  end  pitch  velocity  duration\n",
       "173       48    1.8  2.4     62        95       0.6\n",
       "174       48    2.4  3.0     67       105       0.6\n",
       "317        0    2.4  3.6     55        90       1.2\n",
       "318        0    2.4  3.6     59       100       1.2\n",
       "175       48    3.0  3.3     66       100       0.3"
      ]
     },
     "execution_count": 12,
     "metadata": {},
     "output_type": "execute_result"
    }
   ],
   "source": [
    "midi_vectorlizer = MidiVectorlizer()\n",
    "tone_df = midi_vectorlizer.extract(\"../../furudokei.mid\")\n",
    "tone_df = tone_df.sort_values(by=[\"start\", \"end\"])\n",
    "tone_df.head()"
   ]
  },
  {
   "cell_type": "code",
   "execution_count": 3,
   "metadata": {},
   "outputs": [],
   "source": [
    "q_consonance = QConsonance()\n",
    "q_consonance.initialize()\n",
    "for pitch in tone_df.pitch.values.tolist():\n",
    "    q_consonance.learn(state_key=pitch, limit=1)"
   ]
  },
  {
   "cell_type": "code",
   "execution_count": 4,
   "metadata": {},
   "outputs": [],
   "source": [
    "inferable_pitch = RTRBMInferer(\n",
    "    learning_rate=0.00001,\n",
    "    hidden_n=100,\n",
    "    hidden_binary_flag=True,\n",
    "    inferancing_training_count=1,\n",
    "    r_batch_size=200\n",
    ")"
   ]
  },
  {
   "cell_type": "code",
   "execution_count": 5,
   "metadata": {},
   "outputs": [],
   "source": [
    "inferable_pitch.learn(tone_df=tone_df, training_count=1, batch_size=200)"
   ]
  },
  {
   "cell_type": "code",
   "execution_count": 6,
   "metadata": {},
   "outputs": [],
   "source": [
    "composition_controler = CompositionControler(\n",
    "    resolution=960,\n",
    "    initial_tempo=120,\n",
    "    chord_instrument_num=33,\n",
    "    melody_instrument_num=1\n",
    ")"
   ]
  },
  {
   "cell_type": "code",
   "execution_count": 7,
   "metadata": {},
   "outputs": [],
   "source": [
    "chord_melody_list = composition_controler.create_chord_melody_list(\n",
    "    octave=4, \n",
    "    first_chord=\"I\",\n",
    "    length=4\n",
    ")"
   ]
  },
  {
   "cell_type": "code",
   "execution_count": 8,
   "metadata": {},
   "outputs": [],
   "source": [
    "#composition_controler.reset()\n",
    "composition_controler.match_melody_to_chords(\n",
    "    inferable_pitch,\n",
    "    q_consonance,\n",
    "    chord_melody_list,\n",
    "    measure_n=4,\n",
    "    start_measure_n=0,\n",
    "    beat_n=4,\n",
    "    metronome_time=100,\n",
    "    chord_velocity_range=(50, 60),\n",
    "    melody_velocity_range=(90, 110)\n",
    ")"
   ]
  },
  {
   "cell_type": "code",
   "execution_count": 9,
   "metadata": {},
   "outputs": [],
   "source": [
    "composition_controler.save(\"test.mid\")"
   ]
  },
  {
   "cell_type": "code",
   "execution_count": 11,
   "metadata": {},
   "outputs": [],
   "source": [
    "#midi_vectorlizer.extract(\"test.mid\")"
   ]
  },
  {
   "cell_type": "code",
   "execution_count": null,
   "metadata": {},
   "outputs": [],
   "source": []
  }
 ],
 "metadata": {
  "kernelspec": {
   "display_name": "Python 3",
   "language": "python",
   "name": "python3"
  },
  "language_info": {
   "codemirror_mode": {
    "name": "ipython",
    "version": 3
   },
   "file_extension": ".py",
   "mimetype": "text/x-python",
   "name": "python",
   "nbconvert_exporter": "python",
   "pygments_lexer": "ipython3",
   "version": "3.6.4"
  }
 },
 "nbformat": 4,
 "nbformat_minor": 2
}
