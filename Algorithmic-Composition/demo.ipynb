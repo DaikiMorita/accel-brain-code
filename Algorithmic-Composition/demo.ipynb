{
 "cells": [
  {
   "cell_type": "code",
   "execution_count": 1,
   "metadata": {},
   "outputs": [],
   "source": [
    "import numpy as np\n",
    "from pycomposer.composition_controler import CompositionControler\n",
    "from pycomposer.inferablepitch.rtrbm_inferer import RTRBMInferer\n",
    "from pycomposer.inferableconsonance.q_consonance import QConsonance\n",
    "from pycomposer.midi_vectorlizer import MidiVectorlizer"
   ]
  },
  {
   "cell_type": "code",
   "execution_count": 2,
   "metadata": {},
   "outputs": [],
   "source": [
    "midi_vectorlizer = MidiVectorlizer()\n",
    "tone_df = midi_vectorlizer.extract(\"../../furudokei.mid\")\n",
    "tone_df = tone_df.sort_values(by=[\"start\", \"end\"])"
   ]
  },
  {
   "cell_type": "code",
   "execution_count": 3,
   "metadata": {},
   "outputs": [],
   "source": [
    "inferable_consonance = QConsonance()\n",
    "inferable_consonance.initialize()\n",
    "for pitch in tone_df.pitch.values.tolist():\n",
    "    inferable_consonance.learn(state_key=pitch, limit=2)"
   ]
  },
  {
   "cell_type": "code",
   "execution_count": 4,
   "metadata": {},
   "outputs": [],
   "source": [
    "inferable_pitch = RTRBMInferer(\n",
    "    learning_rate=0.00001,\n",
    "    hidden_n=100,\n",
    "    hidden_binary_flag=True,\n",
    "    inferancing_training_count=1,\n",
    "    r_batch_size=200\n",
    ")"
   ]
  },
  {
   "cell_type": "code",
   "execution_count": 5,
   "metadata": {},
   "outputs": [],
   "source": [
    "inferable_pitch.learn(tone_df=tone_df, training_count=1, batch_size=200)"
   ]
  },
  {
   "cell_type": "code",
   "execution_count": 13,
   "metadata": {},
   "outputs": [],
   "source": [
    "composition_controler = CompositionControler(\n",
    "    resolution=960,\n",
    "    initial_tempo=120\n",
    ")"
   ]
  },
  {
   "cell_type": "code",
   "execution_count": 14,
   "metadata": {},
   "outputs": [],
   "source": [
    "chord_list = composition_controler.create_chord_list(\n",
    "    octave=4, \n",
    "    first_chord=\"I\",\n",
    "    measure_n=20\n",
    ")\n",
    "\n",
    "composition_controler.compose_chord(\n",
    "    chord_list,\n",
    "    metronome_time=100, \n",
    "    start_measure_n=0,\n",
    "    chord_instrument_num=33,\n",
    "    chord_velocity_range=(70, 90)\n",
    ")"
   ]
  },
  {
   "cell_type": "code",
   "execution_count": 15,
   "metadata": {},
   "outputs": [],
   "source": [
    "composition_controler.compose_melody(\n",
    "    inferable_pitch,\n",
    "    inferable_consonance,\n",
    "    chord_list,\n",
    "    measure_n=20,\n",
    "    start_measure_n=0,\n",
    "    beat_n=4,\n",
    "    metronome_time=100,\n",
    "    melody_instrument_num=0,\n",
    "    melody_velocity_range=(90, 110)\n",
    ")"
   ]
  },
  {
   "cell_type": "code",
   "execution_count": 16,
   "metadata": {},
   "outputs": [],
   "source": [
    "composition_controler.save(\"test3.mid\")"
   ]
  },
  {
   "cell_type": "code",
   "execution_count": null,
   "metadata": {},
   "outputs": [],
   "source": []
  }
 ],
 "metadata": {
  "kernelspec": {
   "display_name": "Python 3",
   "language": "python",
   "name": "python3"
  },
  "language_info": {
   "codemirror_mode": {
    "name": "ipython",
    "version": 3
   },
   "file_extension": ".py",
   "mimetype": "text/x-python",
   "name": "python",
   "nbconvert_exporter": "python",
   "pygments_lexer": "ipython3",
   "version": "3.6.4"
  }
 },
 "nbformat": 4,
 "nbformat_minor": 2
}
