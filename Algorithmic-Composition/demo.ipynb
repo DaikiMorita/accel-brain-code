{
 "cells": [
  {
   "cell_type": "code",
   "execution_count": 1,
   "metadata": {},
   "outputs": [],
   "source": [
    "import numpy as np\n",
    "from pycomposer.composition_controler import CompositionControler\n",
    "from pycomposer.inferablepitch.rtrbm_inferer import RTRBMInferer\n",
    "from pycomposer.inferableconsonance.q_consonance import QConsonance\n",
    "from pycomposer.midi_vectorlizer import MidiVectorlizer"
   ]
  },
  {
   "cell_type": "code",
   "execution_count": 2,
   "metadata": {},
   "outputs": [],
   "source": [
    "midi_vectorlizer = MidiVectorlizer()\n",
    "tone_df = midi_vectorlizer.extract(\"../../furudokei.mid\")\n",
    "tone_df = tone_df.sort_values(by=[\"start\", \"end\"])"
   ]
  },
  {
   "cell_type": "code",
   "execution_count": 3,
   "metadata": {},
   "outputs": [],
   "source": [
    "r_dict = {\n",
    "    (1, 1): 5.0,\n",
    "    (15, 16): 0.0,\n",
    "    (8, 9): 0.0,\n",
    "    (5, 6): 0.5,\n",
    "    (4, 5): 0.5,\n",
    "    (2, 1): 5.0,\n",
    "    (32, 45): 0.0,\n",
    "    (2, 3): 5.0,\n",
    "    (5, 8): 0.5,\n",
    "    (3, 5): 0.5,\n",
    "    (9, 16): 0.0,\n",
    "    (8, 15): 0.0,\n",
    "    (1, 2): 5.0\n",
    "}\n",
    "\n",
    "inferable_consonance = QConsonance()\n",
    "inferable_consonance.epsilon_greedy_rate = 0.9\n",
    "inferable_consonance.alpha_value = 0.6\n",
    "inferable_consonance.gamma_value = 0.7\n",
    "inferable_consonance.initialize(r_dict=r_dict, tone_df=tone_df)\n",
    "for pitch in tone_df.pitch.values.tolist():\n",
    "    inferable_consonance.learn(state_key=pitch, limit=2)"
   ]
  },
  {
   "cell_type": "code",
   "execution_count": 14,
   "metadata": {},
   "outputs": [
    {
     "data": {
      "image/png": "[encoded data removed]",
      "text/plain": [
       "<matplotlib.figure.Figure at 0x7e301b299048>"
      ]
     },
     "metadata": {},
     "output_type": "display_data"
    }
   ],
   "source": [
    "import matplotlib.pyplot as plt\n",
    "q_df = inferable_consonance.q_df.copy()\n",
    "q_df[\"rate\"] = q_df[\"state_key\"] / q_df[\"action_key\"]\n",
    "#q_df = q_df[q_df.q_value > 0]\n",
    "q_df.plot.scatter(x=\"rate\", y=\"q_value\")\n",
    "plt.show();plt.close()"
   ]
  },
  {
   "cell_type": "code",
   "execution_count": 5,
   "metadata": {},
   "outputs": [],
   "source": [
    "inferable_pitch = RTRBMInferer(\n",
    "    learning_rate=0.00001,\n",
    "    hidden_n=100,\n",
    "    hidden_binary_flag=True,\n",
    "    inferancing_training_count=1,\n",
    "    r_batch_size=200\n",
    ")"
   ]
  },
  {
   "cell_type": "code",
   "execution_count": 6,
   "metadata": {},
   "outputs": [],
   "source": [
    "tone_df = tone_df[tone_df.program == 22]\n",
    "inferable_pitch.learn(tone_df=tone_df, training_count=1, batch_size=200)"
   ]
  },
  {
   "cell_type": "code",
   "execution_count": 7,
   "metadata": {},
   "outputs": [],
   "source": [
    "composition_controler = CompositionControler(\n",
    "    resolution=960,\n",
    "    initial_tempo=120\n",
    ")"
   ]
  },
  {
   "cell_type": "code",
   "execution_count": 8,
   "metadata": {},
   "outputs": [],
   "source": [
    "chord_list = composition_controler.create_chord_list(\n",
    "    octave=5, \n",
    "    first_chord=\"IV\",\n",
    "    total_measure_n=40\n",
    ")\n",
    "\n",
    "composition_controler.compose_chord(\n",
    "    chord_list,\n",
    "    metronome_time=100, \n",
    "    start_measure_n=0,\n",
    "    measure_n=8,\n",
    "    beat_n=8,\n",
    "    chord_instrument_num=34,\n",
    "    chord_velocity_range=(90, 95)\n",
    ")"
   ]
  },
  {
   "cell_type": "code",
   "execution_count": 9,
   "metadata": {},
   "outputs": [],
   "source": [
    "composition_controler.compose_melody(\n",
    "    inferable_pitch,\n",
    "    inferable_consonance,\n",
    "    chord_list,\n",
    "    total_measure_n=40,\n",
    "    measure_n=8,\n",
    "    start_measure_n=0,\n",
    "    beat_n=8,\n",
    "    metronome_time=100,\n",
    "    melody_instrument_num=0,\n",
    "    melody_velocity_range=(120, 127)\n",
    ")"
   ]
  },
  {
   "cell_type": "code",
   "execution_count": 10,
   "metadata": {},
   "outputs": [],
   "source": [
    "df = composition_controler.export_df().describe()"
   ]
  },
  {
   "cell_type": "code",
   "execution_count": 11,
   "metadata": {},
   "outputs": [],
   "source": [
    "composition_controler.save(\"test7.mid\")"
   ]
  },
  {
   "cell_type": "code",
   "execution_count": 12,
   "metadata": {},
   "outputs": [],
   "source": [
    "#midi_vectorlizer.extract(\"test3.mid\")"
   ]
  }
 ],
 "metadata": {
  "kernelspec": {
   "display_name": "Python 3",
   "language": "python",
   "name": "python3"
  },
  "language_info": {
   "codemirror_mode": {
    "name": "ipython",
    "version": 3
   },
   "file_extension": ".py",
   "mimetype": "text/x-python",
   "name": "python",
   "nbconvert_exporter": "python",
   "pygments_lexer": "ipython3",
   "version": "3.6.4"
  }
 },
 "nbformat": 4,
 "nbformat_minor": 2
}
